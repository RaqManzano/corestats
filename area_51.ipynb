{
  "cells": [
    {
      "cell_type": "raw",
      "metadata": {},
      "source": [
        "---\n",
        "title: \"area_51\"\n",
        "editor: visual\n",
        "---"
      ],
      "id": "55cd74ab"
    },
    {
      "cell_type": "code",
      "metadata": {},
      "source": [
        "import numpy as np\n",
        "import seaborn as sns\n",
        "from statsmodels.tools.tools import maybe_unwrap_results\n",
        "from statsmodels.graphics.gofplots import ProbPlot\n",
        "from statsmodels.stats.outliers_influence import variance_inflation_factor\n",
        "import matplotlib.pyplot as plt\n",
        "from typing import Type\n",
        "import statsmodels.formula.api as smf\n",
        "import patchworklib as pw"
      ],
      "id": "e46a7f4b",
      "execution_count": null,
      "outputs": []
    },
    {
      "cell_type": "code",
      "metadata": {},
      "source": [
        "oystercatcher_py = pd.read_csv(\"data/CS2-oystercatcher-feeding.csv\")"
      ],
      "id": "e2b0a588",
      "execution_count": null,
      "outputs": []
    },
    {
      "cell_type": "code",
      "metadata": {},
      "source": [
        "# define the model\n",
        "model = smf.ols(formula= \"feeding ~ C(site)\", data = oystercatcher_py)\n",
        "# fit the model\n",
        "results = model.fit()\n",
        "\n",
        "results.summary()"
      ],
      "id": "6a7e7ebe",
      "execution_count": null,
      "outputs": []
    },
    {
      "cell_type": "code",
      "metadata": {},
      "source": [
        "# Get different Variables for diagnostic\n",
        "residuals = results.resid.rename(\"residuals\")\n",
        "fitted_values = results.fittedvalues.rename(\"fitted_values\")\n",
        "std_resid = pd.Series(results.resid_pearson).rename(\"std_resid\")\n",
        "influence = results.get_influence()\n",
        "cooks_d = pd.Series(influence.cooks_distance[0]).rename(\"cooks_d\")\n",
        "leverage = pd.Series(influence.hat_matrix_diag).rename(\"leverage\")\n",
        "obs = pd.Series(range(len(residuals))).rename(\"obs\")\n",
        "n_obs = len(obs.index)"
      ],
      "id": "71315787",
      "execution_count": null,
      "outputs": []
    },
    {
      "cell_type": "code",
      "metadata": {},
      "source": [
        "# combine Series into DataFrame\n",
        "model_values = residuals.to_frame().join(fitted_values).join(std_resid).join(cooks_d).join(leverage).join(obs)\n",
        "\n",
        "model_values[\"n_obs\"] = n_obs"
      ],
      "id": "0c0bcb00",
      "execution_count": null,
      "outputs": []
    },
    {
      "cell_type": "code",
      "metadata": {},
      "source": [
        "import patchworklib as pw\n",
        "from plotnine import *\n",
        "from plotnine.data import *\n",
        "g1 = (ggplot(mtcars) + geom_point(aes(\"mpg\", \"disp\")))\n",
        "g2 = (ggplot(mtcars) + geom_boxplot(aes(\"gear\", \"disp\", group=\"gear\")))\n",
        "g3 = (ggplot(mtcars, aes('wt', 'mpg', color='factor(gear)')) + geom_point() + stat_smooth(method='lm') + facet_wrap('~gear'))\n",
        "g4 = (ggplot(data=diamonds) + geom_bar(mapping=aes(x=\"cut\", fill=\"clarity\"), position=\"dodge\"))\n",
        "\n",
        "g1 = pw.load_ggplot(g1, figsize=(2,3))\n",
        "g2 = pw.load_ggplot(g2, figsize=(2,3))\n",
        "g3 = pw.load_ggplot(g3, figsize=(3,3))\n",
        "g4 = pw.load_ggplot(g4, figsize=(5,2))\n",
        "g1234 = (g1|g2|g3)/g4\n",
        "g1234.savefig()"
      ],
      "id": "70601656",
      "execution_count": null,
      "outputs": []
    },
    {
      "cell_type": "markdown",
      "metadata": {},
      "source": [
        "## Q-Q plot"
      ],
      "id": "7dfbf6e9"
    },
    {
      "cell_type": "code",
      "metadata": {},
      "source": [
        "p1 = (\n",
        "  ggplot(model_values, aes(sample = \"residuals\"))\n",
        "  + stat_qq()\n",
        "  + stat_qq_line(colour = \"blue\")\n",
        ")\n",
        "\n",
        "p1 = pw.load_ggplot(p1, figsize=(2,3))\n",
        "p1.savefig()"
      ],
      "id": "893bbe4c",
      "execution_count": null,
      "outputs": []
    },
    {
      "cell_type": "markdown",
      "metadata": {},
      "source": [
        "## Residual plot"
      ],
      "id": "544d8a5b"
    },
    {
      "cell_type": "code",
      "metadata": {},
      "source": [
        "(\n",
        "    ggplot(model_values, aes(x = \"fitted_values\", y = \"residuals\"))\n",
        "    + geom_point()\n",
        "    + geom_smooth(se = False, colour = \"red\")\n",
        ")"
      ],
      "id": "7507e553",
      "execution_count": null,
      "outputs": []
    },
    {
      "cell_type": "markdown",
      "metadata": {},
      "source": [
        "## Location-Scale plot"
      ],
      "id": "833f9889"
    },
    {
      "cell_type": "code",
      "metadata": {},
      "source": [
        "(\n",
        "    ggplot(model_values, aes(x = \"fitted_values\", y = \"std_resid\"))\n",
        "    + geom_point()\n",
        "    + geom_smooth(se = False, colour = \"red\")\n",
        ")"
      ],
      "id": "634eafbf",
      "execution_count": null,
      "outputs": []
    },
    {
      "cell_type": "markdown",
      "metadata": {},
      "source": [
        "## Cook's distance"
      ],
      "id": "e8f80ff5"
    },
    {
      "cell_type": "code",
      "metadata": {},
      "source": [
        "(\n",
        "    ggplot(model_values, aes(x = \"obs\", y = \"cooks_d\"))\n",
        "    + geom_point()\n",
        "    + geom_segment(aes(xend = \"obs\", yend = 0), colour = \"blue\")\n",
        "    + geom_hline(aes(yintercept = 0))\n",
        "    + geom_hline(aes(yintercept = 4/n_obs), colour = \"blue\", linetype = \"dashed\")\n",
        ")"
      ],
      "id": "db2891be",
      "execution_count": null,
      "outputs": []
    }
  ],
  "metadata": {
    "kernelspec": {
      "display_name": "Python 3",
      "language": "python",
      "name": "python3"
    }
  },
  "nbformat": 4,
  "nbformat_minor": 5
}